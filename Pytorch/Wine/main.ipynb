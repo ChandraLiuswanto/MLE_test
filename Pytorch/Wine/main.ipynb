{
 "cells": [
  {
   "cell_type": "code",
   "execution_count": 140,
   "metadata": {},
   "outputs": [],
   "source": [
    "import torch\n",
    "from torch import nn\n",
    "import numpy as np\n",
    "from torch.utils.data import DataLoader, TensorDataset, random_split\n",
    "import seaborn as sns\n",
    "import matplotlib.pyplot as plt \n",
    "from sklearn.datasets import load_wine"
   ]
  },
  {
   "cell_type": "code",
   "execution_count": 141,
   "metadata": {},
   "outputs": [],
   "source": [
    "data = load_wine()\n",
    "X_data = data.data\n",
    "y_data = data.target\n",
    "n_sample, n_feature = X_data.shape"
   ]
  },
  {
   "cell_type": "code",
   "execution_count": 142,
   "metadata": {},
   "outputs": [],
   "source": [
    "from sklearn.preprocessing import LabelBinarizer\n",
    "lb = LabelBinarizer()\n",
    "y_label = lb.fit(y_data)\n",
    "y_data0 = lb.fit_transform(y_data)"
   ]
  },
  {
   "cell_type": "code",
   "execution_count": 143,
   "metadata": {},
   "outputs": [],
   "source": [
    "X_tensor = torch.Tensor(X_data.astype(np.float32))\n",
    "y_tensor = torch.Tensor(y_data0)\n",
    "dataset = TensorDataset(X_tensor, y_tensor)\n",
    "\n",
    "test_ratio = 0.2  # 20% data split into test dataset\n",
    "test_size = int(n_sample * test_ratio)\n",
    "train_size = n_sample - test_size\n",
    "train_ds, test_ds = random_split(dataset,[train_size, test_size])\n",
    "train_dataloader = DataLoader(train_ds, batch_size=train_size, shuffle=True)\n",
    "test_dataloader = DataLoader(test_ds, batch_size=test_size)"
   ]
  },
  {
   "cell_type": "code",
   "execution_count": 181,
   "metadata": {},
   "outputs": [],
   "source": [
    "def accuracy(true_val, pred_val):\n",
    "    t0 = ((true_val.argmax(dim=1) == pred_val.argmax(dim=1))*1)\n",
    "    return t0.numpy().mean()"
   ]
  },
  {
   "cell_type": "code",
   "execution_count": 197,
   "metadata": {},
   "outputs": [
    {
     "name": "stdout",
     "output_type": "stream",
     "text": [
      "Epoch 0: Train cost = 0.04076, Test cost = 0.12084, Train acc = 98.601%, Test acc = 97.143%\n",
      "Epoch 100: Train cost = 0.04076, Test cost = 0.11593, Train acc = 98.601%, Test acc = 97.143%\n",
      "Epoch 200: Train cost = 0.04076, Test cost = 0.11571, Train acc = 98.601%, Test acc = 97.143%\n",
      "Epoch 300: Train cost = 0.04076, Test cost = 0.11560, Train acc = 98.601%, Test acc = 97.143%\n",
      "Epoch 400: Train cost = 0.04076, Test cost = 0.11547, Train acc = 98.601%, Test acc = 97.143%\n",
      "Epoch 500: Train cost = 0.04076, Test cost = 0.11518, Train acc = 98.601%, Test acc = 97.143%\n",
      "Epoch 600: Train cost = 0.04076, Test cost = 0.11500, Train acc = 98.601%, Test acc = 97.143%\n",
      "Epoch 700: Train cost = 0.04076, Test cost = 0.11482, Train acc = 98.601%, Test acc = 97.143%\n",
      "Epoch 800: Train cost = 0.04076, Test cost = 0.11467, Train acc = 98.601%, Test acc = 97.143%\n",
      "Epoch 900: Train cost = 0.04076, Test cost = 0.11443, Train acc = 98.601%, Test acc = 97.143%\n"
     ]
    }
   ],
   "source": [
    "import os\n",
    "class NNmodel(nn.Module):\n",
    "    def __init__(self,input_size,hid_size,output_size):\n",
    "        super(NNmodel,self).__init__()\n",
    "        self.out = nn.Linear(input_size,hid_size,bias=True)\n",
    "        self.out2 = nn.Linear(hid_size,output_size,bias=True)\n",
    "    def forward(self,x):\n",
    "        z = torch.sigmoid(self.out(x))\n",
    "        z = torch.sigmoid(self.out2(z))\n",
    "        return z\n",
    "\n",
    "for x,y in train_dataloader:\n",
    "    train_x = x\n",
    "    train_y = y\n",
    "\n",
    "for x,y in test_dataloader:\n",
    "    test_x = x\n",
    "    test_y = y\n",
    "file_name = 'NN_13_8_3.pt'\n",
    "model = NNmodel(n_feature,8,3)\n",
    "optimizer = torch.optim.Adam(model.parameters(),lr =1e-4)\n",
    "loss = nn.BCELoss()\n",
    "iter = int(5e4)\n",
    "\n",
    "if os.path.exists(file_name):\n",
    "    model.load_state_dict(torch.load(file_name))\n",
    "    iter = 1000\n",
    "\n",
    "\n",
    "for i in range(iter):\n",
    "    z = model(train_x)\n",
    "    J = loss(z,train_y)\n",
    "    J.backward()\n",
    "    optimizer.step()\n",
    "    optimizer.zero_grad()\n",
    "    if i%(iter/10)==0:\n",
    "        with torch.no_grad():\n",
    "            zx = model(test_x)\n",
    "            Jx = loss(zx,test_y)\n",
    "            acc_test = accuracy(zx,test_y)*100\n",
    "        acc_train = accuracy(z,train_y)*100\n",
    "        \n",
    "        print(f'Epoch {i}: Train cost = {J.item():.5f}, Test cost = {Jx.item():.5f}, Train acc = {acc_train:.3f}%, Test acc = {acc_test:.3f}%')\n",
    "torch.save(model.state_dict(),file_name)"
   ]
  }
 ],
 "metadata": {
  "interpreter": {
   "hash": "294ce20df86c934b8e6934fc8826ec74c86f3a7103def11d1ee6e795248841c1"
  },
  "kernelspec": {
   "display_name": "Python 3.10.4 ('ML_env')",
   "language": "python",
   "name": "python3"
  },
  "language_info": {
   "codemirror_mode": {
    "name": "ipython",
    "version": 3
   },
   "file_extension": ".py",
   "mimetype": "text/x-python",
   "name": "python",
   "nbconvert_exporter": "python",
   "pygments_lexer": "ipython3",
   "version": "3.10.4"
  },
  "orig_nbformat": 4
 },
 "nbformat": 4,
 "nbformat_minor": 2
}
