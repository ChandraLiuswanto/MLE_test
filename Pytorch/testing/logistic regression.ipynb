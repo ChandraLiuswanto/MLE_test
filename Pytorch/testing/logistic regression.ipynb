{
 "cells": [
  {
   "cell_type": "code",
   "execution_count": 38,
   "metadata": {},
   "outputs": [],
   "source": [
    "import torch\n",
    "import torch.nn as nn\n",
    "import matplotlib.pyplot as plt\n",
    "from sklearn import datasets\n",
    "import numpy as np\n",
    "from sklearn.model_selection import train_test_split\n",
    "data = datasets.load_breast_cancer()\n",
    "x,y = data.data, data.target\n",
    "x_train, x_test, y_train, y_test = train_test_split(x,y,test_size=0.2)\n",
    "\n",
    "from sklearn.preprocessing import StandardScaler\n",
    "sc = StandardScaler()\n",
    "x_train = sc.fit_transform(x_train)\n",
    "x_test = sc.transform(x_test)\n",
    "\n",
    "n_samples, n_feature = x.shape\n",
    "x_train = torch.from_numpy(x_train.astype(np.float32))\n",
    "y_train = torch.from_numpy(y_train.astype(np.float32))\n",
    "y_train = y_train.view(-1,1)\n",
    "\n",
    "x_test = torch.from_numpy(x_test.astype(np.float32))\n",
    "y_test = torch.from_numpy(y_test.astype(np.float32))\n",
    "y_test = y_test.view(-1,1)"
   ]
  },
  {
   "cell_type": "code",
   "execution_count": 93,
   "metadata": {},
   "outputs": [
    {
     "data": {
      "text/plain": [
       "False"
      ]
     },
     "execution_count": 93,
     "metadata": {},
     "output_type": "execute_result"
    }
   ],
   "source": [
    "torch.cuda.is_available()"
   ]
  },
  {
   "cell_type": "code",
   "execution_count": 40,
   "metadata": {},
   "outputs": [],
   "source": [
    "class LogisticRegression(nn.Module):\n",
    "    def __init__(self,n_input_feature):\n",
    "        super(LogisticRegression,self).__init__()\n",
    "        self.linear = nn.Linear(n_input_feature,1)\n",
    "    def forward(self,x):\n",
    "        z = torch.sigmoid(self.linear(x))\n",
    "        return z\n",
    "model = LogisticRegression(n_feature)"
   ]
  },
  {
   "cell_type": "code",
   "execution_count": 83,
   "metadata": {},
   "outputs": [
    {
     "name": "stdout",
     "output_type": "stream",
     "text": [
      "epoch 0: loss = 0.05353\n",
      "epoch 1000: loss = 0.05318\n",
      "epoch 2000: loss = 0.05283\n",
      "epoch 3000: loss = 0.05250\n",
      "epoch 4000: loss = 0.05218\n",
      "epoch 5000: loss = 0.05188\n",
      "epoch 6000: loss = 0.05158\n",
      "epoch 7000: loss = 0.05130\n",
      "epoch 8000: loss = 0.05102\n",
      "epoch 9000: loss = 0.05075\n"
     ]
    }
   ],
   "source": [
    "max_epochs = 10000\n",
    "loss = nn.BCELoss()\n",
    "rate = 1e-2\n",
    "optimizer = torch.optim.SGD(model.parameters(),lr = rate)\n",
    "\n",
    "for epoch in range(max_epochs):\n",
    "    z = model(x_train)\n",
    "    J = loss(z,y_train)\n",
    "    J.backward()\n",
    "    optimizer.step()\n",
    "    optimizer.zero_grad()\n",
    "    if epoch % 1000 == 0:\n",
    "        print(f'epoch {epoch}: loss = {J.item():.5f}')"
   ]
  },
  {
   "cell_type": "code",
   "execution_count": 84,
   "metadata": {},
   "outputs": [
    {
     "name": "stdout",
     "output_type": "stream",
     "text": [
      "Training data accuracy = 98.68132%\n",
      "Test data accuracy = 98.24561%\n"
     ]
    }
   ],
   "source": [
    "with torch.no_grad():\n",
    "    z_x = model(x_train)\n",
    "    z_x0 = model(x_test)\n",
    "    z_x = z_x.round()\n",
    "    z_x0 = z_x0.round()\n",
    "    acc = z_x.eq(y_train).sum()/y_train.shape[0]\n",
    "    acc0 = z_x0.eq(y_test).sum()/y_test.shape[0]\n",
    "print(f'Training data accuracy = {acc*100:.5f}%')\n",
    "print(f'Test data accuracy = {acc0*100:.5f}%')"
   ]
  },
  {
   "cell_type": "code",
   "execution_count": 3,
   "metadata": {},
   "outputs": [],
   "source": [
    "import torch\n",
    "print(torch.finfo().max)"
   ]
  }
 ],
 "metadata": {
  "interpreter": {
   "hash": "e5a17a750047e9f3c51d16de80e20ed5c3e6a6635eecd2fd4b026716bd47862e"
  },
  "kernelspec": {
   "display_name": "Python 3.8.10 64-bit",
   "language": "python",
   "name": "python3"
  },
  "language_info": {
   "codemirror_mode": {
    "name": "ipython",
    "version": 3
   },
   "file_extension": ".py",
   "mimetype": "text/x-python",
   "name": "python",
   "nbconvert_exporter": "python",
   "pygments_lexer": "ipython3",
   "version": "3.8.10"
  },
  "orig_nbformat": 4
 },
 "nbformat": 4,
 "nbformat_minor": 2
}
