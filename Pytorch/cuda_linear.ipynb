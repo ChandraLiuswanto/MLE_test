{
 "cells": [
  {
   "cell_type": "code",
   "execution_count": 1,
   "metadata": {},
   "outputs": [],
   "source": [
    "import cv2\n",
    "import torch"
   ]
  },
  {
   "cell_type": "code",
   "execution_count": 2,
   "metadata": {},
   "outputs": [
    {
     "data": {
      "text/plain": [
       "[<matplotlib.lines.Line2D at 0x7f25c62160>]"
      ]
     },
     "execution_count": 2,
     "metadata": {},
     "output_type": "execute_result"
    }
   ],
   "source": [
    "import numpy as np\n",
    "import matplotlib.pyplot as plt\n",
    "X_np = np.array(list(range(10)),dtype=np.float32)\n",
    "y_np = 3.5 * X_np\n",
    "plt.plot(X_np,y_np,'o')"
   ]
  },
  {
   "cell_type": "code",
   "execution_count": 3,
   "metadata": {},
   "outputs": [],
   "source": [
    "device = torch.device(\"cuda\" if torch.cuda.is_available() else \"cpu\")"
   ]
  },
  {
   "cell_type": "code",
   "execution_count": 20,
   "metadata": {},
   "outputs": [],
   "source": [
    "X_a = torch.from_numpy(X_np).view(-1,1)\n",
    "y_a = torch.from_numpy(y_np).view(-1,1)"
   ]
  },
  {
   "cell_type": "code",
   "execution_count": 21,
   "metadata": {},
   "outputs": [],
   "source": [
    "X_b = X_a.to(device)\n",
    "y_b = y_a.to(device)"
   ]
  },
  {
   "cell_type": "code",
   "execution_count": 22,
   "metadata": {},
   "outputs": [
    {
     "data": {
      "text/plain": [
       "torch.Size([10, 1])"
      ]
     },
     "execution_count": 22,
     "metadata": {},
     "output_type": "execute_result"
    }
   ],
   "source": [
    "X_b.shape"
   ]
  },
  {
   "cell_type": "code",
   "execution_count": 37,
   "metadata": {},
   "outputs": [
    {
     "name": "stdout",
     "output_type": "stream",
     "text": [
      "0 370.8387145996094\n",
      "100 0.15572263300418854\n",
      "200 0.05017026886343956\n",
      "300 0.016163645312190056\n",
      "400 0.005207558628171682\n",
      "500 0.0016777486307546496\n",
      "600 0.0005405344418250024\n",
      "700 0.00017414716421626508\n",
      "800 5.610697189695202e-05\n",
      "900 1.8075179468723945e-05\n"
     ]
    }
   ],
   "source": [
    "import torch.nn as nn\n",
    "model = nn.Linear(1,1).to(device)\n",
    "loss = nn.MSELoss()\n",
    "optimizer = torch.optim.SGD(model.parameters(),lr=1e-2)\n",
    "for epoch in range(1000):\n",
    "    z = model(X_b)\n",
    "    J = loss(z,y_b)\n",
    "    J.backward()\n",
    "    optimizer.step()\n",
    "    optimizer.zero_grad()\n",
    "    if epoch % 100 == 0:\n",
    "        print(epoch,J.item())\n"
   ]
  },
  {
   "cell_type": "code",
   "execution_count": 39,
   "metadata": {},
   "outputs": [
    {
     "name": "stdout",
     "output_type": "stream",
     "text": [
      "3.4992847442626953\n"
     ]
    }
   ],
   "source": [
    "with torch.no_grad():\n",
    "    [w,b] = model.parameters()\n",
    "\n",
    "print(w.item())"
   ]
  }
 ],
 "metadata": {
  "interpreter": {
   "hash": "31f2aee4e71d21fbe5cf8b01ff0e069b9275f58929596ceb00d14d90e3e16cd6"
  },
  "kernelspec": {
   "display_name": "Python 3.6.9 64-bit",
   "language": "python",
   "name": "python3"
  },
  "language_info": {
   "codemirror_mode": {
    "name": "ipython",
    "version": 3
   },
   "file_extension": ".py",
   "mimetype": "text/x-python",
   "name": "python",
   "nbconvert_exporter": "python",
   "pygments_lexer": "ipython3",
   "version": "3.6.9"
  },
  "orig_nbformat": 4
 },
 "nbformat": 4,
 "nbformat_minor": 2
}
