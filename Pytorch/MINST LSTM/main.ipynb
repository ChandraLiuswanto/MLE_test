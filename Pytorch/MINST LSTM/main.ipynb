{
 "cells": [
  {
   "cell_type": "markdown",
   "metadata": {},
   "source": [
    "Import library and data"
   ]
  },
  {
   "cell_type": "code",
   "execution_count": 215,
   "metadata": {},
   "outputs": [],
   "source": [
    "import torch, torchvision, os, time\n",
    "import torch.nn as nn\n",
    "import numpy as np\n",
    "import torchvision.transforms as transforms\n",
    "\n",
    "device = torch.device('cuda' if torch.cuda.is_available() else 'cpu')\n",
    "\n",
    "train_dataset = torchvision.datasets.MNIST(root = os.path.join(os.getcwd(),'MNIST_data'),\n",
    "                                            train = True,\n",
    "                                            download =True,\n",
    "                                            transform = transforms.ToTensor())\n",
    "\n",
    "test_dataset = torchvision.datasets.MNIST(root = os.path.join(os.getcwd(),'MNIST_data'),\n",
    "                                            train = False,\n",
    "                                            transform = transforms.ToTensor())                                     \n",
    "\n",
    "loader_batch_size = 100\n",
    "train_dataloader = torch.utils.data.DataLoader(train_dataset,\n",
    "                                                batch_size=loader_batch_size,\n",
    "                                                shuffle = True)\n",
    "test_dataloader = torch.utils.data.DataLoader(test_dataset,\n",
    "                                                batch_size=loader_batch_size,\n",
    "                                                shuffle = False)"
   ]
  },
  {
   "cell_type": "markdown",
   "metadata": {},
   "source": [
    "# acc function and nn model"
   ]
  },
  {
   "cell_type": "code",
   "execution_count": 216,
   "metadata": {},
   "outputs": [],
   "source": [
    "class NNlinear(nn.Module):\n",
    "    def __init__(self,input_size,hidden_layer1_size,hidden_layer2_size,output_size):\n",
    "        super(NNlinear,self).__init__()\n",
    "        self.layer1 = nn.Linear(input_size, hidden_layer1_size,bias=True)\n",
    "        self.layer2 = nn.Linear(hidden_layer1_size,hidden_layer2_size,bias=True)\n",
    "        self.output = nn.Linear(hidden_layer2_size,output_size)\n",
    "\n",
    "    def forward(self,x):\n",
    "        z = torch.relu(self.layer1(x))\n",
    "        z = torch.relu(self.layer2(z))\n",
    "        z = torch.sigmoid(self.output(z))\n",
    "        return z\n",
    "def accuracy_test(model_ML,dataloader_model):\n",
    "    z_val = model_ML(dataloader_model.dataset.data.view(-1,28*28).type(torch.float32))\n",
    "    acc_val = (((z_val.argmax(dim=1)==dataloader_model.dataset.targets)*1.0).mean()*100).item()\n",
    "    return acc_val"
   ]
  },
  {
   "cell_type": "markdown",
   "metadata": {},
   "source": [
    "# trainning"
   ]
  },
  {
   "cell_type": "code",
   "execution_count": 217,
   "metadata": {},
   "outputs": [
    {
     "name": "stdout",
     "output_type": "stream",
     "text": [
      "Epoch 0, acc train = 9.3483%, acc test = 8.7200%\n",
      "Epoch 1 loss = 1.5498, acc_train = 81.1200%, acc test = 80.9900%\n",
      "Epoch 2 loss = 1.5299, acc_train = 87.1083%, acc test = 87.3200%\n",
      "Epoch 3 loss = 1.5383, acc_train = 90.2350%, acc test = 89.8800%\n",
      "Epoch 4 loss = 1.5049, acc_train = 91.8450%, acc test = 91.0200%\n",
      "Epoch 5 loss = 1.4988, acc_train = 91.2933%, acc test = 90.9400%\n"
     ]
    }
   ],
   "source": [
    "pre_trainned = True\n",
    "model = NNlinear(28*28,50,20,10)\n",
    "NN_file = 'NN_model_state_dict.pt'\n",
    "if pre_trainned:\n",
    "    model.load_state_dict(torch.load(NN_file))\n",
    "loss = nn.CrossEntropyLoss()\n",
    "model.eval()\n",
    "optimizer = torch.optim.Adam(model.parameters(),lr = 1e-3)\n",
    "\n",
    "max_epoch = int(1e3)\n",
    "with torch.no_grad():\n",
    "    acc_new = accuracy_test(model,train_dataloader)\n",
    "    acc_test = accuracy_test(model,test_dataloader)\n",
    "print(f'Epoch 0, acc train = {acc_new:.4f}%, acc test = {acc_test:.4f}%')\n",
    "for ep in range(max_epoch):\n",
    "    for img,label in train_dataloader:\n",
    "        z = model(img.view(-1,28*28))\n",
    "        J = loss(z,label)\n",
    "        J.backward()\n",
    "        optimizer.step()\n",
    "        optimizer.zero_grad()\n",
    "    with torch.no_grad():\n",
    "        acc_new = accuracy_test(model,train_dataloader)\n",
    "        acc_test = accuracy_test(model,test_dataloader)\n",
    "    print(f'Epoch {ep+1} loss = {J:.4f}, acc_train = {acc_new:.4f}%, acc test = {acc_test:.4f}%')\n",
    "    if np.abs((acc_new-acc)/acc)*100 < 1:\n",
    "        break\n",
    "    else:\n",
    "        acc = acc_new\n",
    "torch.save(model.state_dict(),NN_file)"
   ]
  }
 ],
 "metadata": {
  "interpreter": {
   "hash": "294ce20df86c934b8e6934fc8826ec74c86f3a7103def11d1ee6e795248841c1"
  },
  "kernelspec": {
   "display_name": "Python 3.10.4 ('ML_env')",
   "language": "python",
   "name": "python3"
  },
  "language_info": {
   "codemirror_mode": {
    "name": "ipython",
    "version": 3
   },
   "file_extension": ".py",
   "mimetype": "text/x-python",
   "name": "python",
   "nbconvert_exporter": "python",
   "pygments_lexer": "ipython3",
   "version": "3.10.4"
  },
  "orig_nbformat": 4
 },
 "nbformat": 4,
 "nbformat_minor": 2
}
