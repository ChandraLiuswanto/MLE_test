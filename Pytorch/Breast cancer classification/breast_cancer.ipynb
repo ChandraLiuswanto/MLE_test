{
 "cells": [
  {
   "cell_type": "markdown",
   "metadata": {},
   "source": [
    "# Import library and dataset from sklearn"
   ]
  },
  {
   "cell_type": "code",
   "execution_count": 1,
   "metadata": {},
   "outputs": [],
   "source": [
    "import torch, os\n",
    "from torch import nn\n",
    "import numpy as np\n",
    "from torch.utils.data import DataLoader, TensorDataset, random_split\n",
    "from sklearn.datasets import load_breast_cancer\n",
    "dataset = load_breast_cancer()\n",
    "X = dataset.data\n",
    "y = dataset.target"
   ]
  },
  {
   "cell_type": "markdown",
   "metadata": {},
   "source": [
    "# Change the dataset to tensor and split train and test dataset "
   ]
  },
  {
   "cell_type": "code",
   "execution_count": 2,
   "metadata": {},
   "outputs": [],
   "source": [
    "device = torch.device(\"cuda\" if torch.cuda.is_available() else \"cpu\")\n",
    "X_a = torch.from_numpy(X.astype(np.float32)).to(device)\n",
    "y_a = (torch.from_numpy(y.astype(np.float32))).view(-1,1).to(device)\n",
    "\n",
    "dataset = TensorDataset(X_a, y_a)\n",
    "\n",
    "test_ratio = 0.2  # 20% data split into test dataset\n",
    "n_sample,n_feature = X_a.shape\n",
    "test_size = int(n_sample * test_ratio)\n",
    "train_size = n_sample - test_size\n",
    "train_ds, test_ds = random_split(dataset,[train_size, test_size])\n",
    "train_dataloader = DataLoader(train_ds, batch_size=train_size, shuffle=True)\n",
    "test_dataloader = DataLoader(test_ds, batch_size=test_size)"
   ]
  },
  {
   "cell_type": "markdown",
   "metadata": {},
   "source": [
    "# Create a NN model with 2 hidden layer\n",
    "first layer = 10\n",
    "\n",
    "second layer = 5"
   ]
  },
  {
   "cell_type": "code",
   "execution_count": 3,
   "metadata": {},
   "outputs": [],
   "source": [
    "class LogisticNN(nn.Module):\n",
    "    def __init__(self):\n",
    "        super(LogisticNN, self).__init__()\n",
    "        layer1_out = 10\n",
    "        layer2_out = 5\n",
    "        self.layer1 = nn.Linear(30,layer1_out,bias=True)\n",
    "        self.layer2 = nn.Linear(layer1_out,layer2_out,bias=True)\n",
    "        self.output = nn.Linear(layer2_out,1,bias=True)\n",
    "\n",
    "    def forward(self, x):\n",
    "        z = torch.relu(self.layer1(x))\n",
    "        z = torch.relu(self.layer2(z))\n",
    "        z = torch.sigmoid(self.output(z))\n",
    "        return z"
   ]
  },
  {
   "cell_type": "markdown",
   "metadata": {},
   "source": [
    "# Load, Train, and Save the model\n",
    "loss model = Binary Cross Entropy\n",
    "\n",
    "Optimizer = Adam optimizer"
   ]
  },
  {
   "cell_type": "code",
   "execution_count": 4,
   "metadata": {},
   "outputs": [
    {
     "name": "stdout",
     "output_type": "stream",
     "text": [
      "Epoch 0: Cost = 0.1138, train acc = 98.0263%, test acc = 90.6274%\n",
      "Epoch 10: Cost = 0.1662, train acc = 96.9298%, test acc = 90.1013%\n",
      "Epoch 20: Cost = 0.1267, train acc = 97.5877%, test acc = 94.4433%\n",
      "Epoch 30: Cost = 0.1115, train acc = 98.0263%, test acc = 95.7582%\n",
      "Epoch 40: Cost = 0.1062, train acc = 98.0263%, test acc = 96.2405%\n",
      "Epoch 50: Cost = 0.1004, train acc = 97.8070%, test acc = 96.6678%\n",
      "Epoch 60: Cost = 0.0982, train acc = 97.5877%, test acc = 96.7935%\n",
      "Epoch 70: Cost = 0.0978, train acc = 97.8070%, test acc = 96.7777%\n",
      "Epoch 80: Cost = 0.0971, train acc = 97.8070%, test acc = 96.7700%\n",
      "Epoch 90: Cost = 0.0965, train acc = 97.5877%, test acc = 96.8612%\n"
     ]
    }
   ],
   "source": [
    "model = LogisticNN().to(device)\n",
    "if os.path.exists('breast_cancer.pt'):\n",
    "    model.load_state_dict(torch.load('breast_cancer.pt',map_location=device))\n",
    "    epoch_max = 100\n",
    "    report = 10\n",
    "else:\n",
    "    epoch_max = 10000\n",
    "    report = 500\n",
    "loss = nn.BCELoss()\n",
    "rate = 1e-3\n",
    "optimizer = torch.optim.Adam(model.parameters(),lr=rate,weight_decay=1e-3)\n",
    "for i in range(epoch_max):\n",
    "    for x_batch_train, y_batch_train in train_dataloader:\n",
    "        z = model(x_batch_train)\n",
    "        J = loss(z,y_batch_train)\n",
    "        J.backward()\n",
    "        optimizer.step()\n",
    "        optimizer.zero_grad()\n",
    "    if i % report  == 0:\n",
    "        with torch.no_grad():\n",
    "            acc = (1-(z.round()-y_batch_train).abs().mean().item())*100\n",
    "            for x_batch_test, y_batch_test in test_dataloader:\n",
    "                zx = model(x_batch_test)\n",
    "                acc_test = (1-(zx-y_batch_test).abs().mean().item())*100\n",
    "        print(f'Epoch {i}: Cost = {J.item():.4f}, train acc = {acc:.4f}%, test acc = {acc_test:.4f}%')\n",
    "\n",
    "torch.save(model.state_dict(),'breast_cancer.pt')"
   ]
  },
  {
   "cell_type": "markdown",
   "metadata": {},
   "source": [
    "# Report of the neural network training\n",
    "createing confusion matrix, accuracy, recall, precision, and F1 score. "
   ]
  },
  {
   "cell_type": "code",
   "execution_count": 28,
   "metadata": {},
   "outputs": [],
   "source": [
    "with torch.no_grad():\n",
    "    z = model(X_a).cpu().detach().numpy().flatten()\n",
    "confusion_matrix = np.zeros((2,2),dtype=int)\n",
    "z_val = z.round().astype(int)\n",
    "for i,val in enumerate(z):\n",
    "    confusion_matrix[y[i],z_val[i]] +=1"
   ]
  },
  {
   "cell_type": "code",
   "execution_count": 27,
   "metadata": {},
   "outputs": [
    {
     "name": "stdout",
     "output_type": "stream",
     "text": [
      "The result show for all value that    \n",
      "\n",
      " Accuracy = 97.53954%    \n",
      " Precision = 95.75472%    \n",
      " Recall = 97.59615%    \n",
      " F1 score = 0.9667    \n"
     ]
    }
   ],
   "source": [
    "precision = confusion_matrix[0,0]/confusion_matrix[0,:].sum()\n",
    "recall = confusion_matrix[0,0]/confusion_matrix[:,0].sum()\n",
    "F1 = 2*precision*recall/(precision+recall)\n",
    "accuracy = confusion_matrix.diagonal().sum() /confusion_matrix.sum()\n",
    "\n",
    "print(f'The result show for all value that\\\n",
    "    \\n\\n Accuracy = {accuracy*100:.5f}%\\\n",
    "    \\n Precision = {precision*100:.5f}%\\\n",
    "    \\n Recall = {recall*100:.5f}%\\\n",
    "    \\n F1 score = {F1:.4f}    ')"
   ]
  }
 ],
 "metadata": {
  "interpreter": {
   "hash": "294ce20df86c934b8e6934fc8826ec74c86f3a7103def11d1ee6e795248841c1"
  },
  "kernelspec": {
   "display_name": "Python 3.10.4 ('ML_env')",
   "language": "python",
   "name": "python3"
  },
  "language_info": {
   "codemirror_mode": {
    "name": "ipython",
    "version": 3
   },
   "file_extension": ".py",
   "mimetype": "text/x-python",
   "name": "python",
   "nbconvert_exporter": "python",
   "pygments_lexer": "ipython3",
   "version": "3.10.4"
  },
  "orig_nbformat": 4
 },
 "nbformat": 4,
 "nbformat_minor": 2
}
