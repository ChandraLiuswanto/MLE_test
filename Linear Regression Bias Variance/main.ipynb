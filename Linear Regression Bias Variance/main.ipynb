{
 "cells": [
  {
   "cell_type": "code",
   "execution_count": 107,
   "metadata": {},
   "outputs": [],
   "source": [
    "import numpy as np\n",
    "import matplotlib.pyplot as plt\n",
    "import scipy.io\n",
    "\n",
    "mat = scipy.io.loadmat('ex5data1.mat')\n",
    "X = mat['X'].flatten()\n",
    "y = mat['y'].flatten()\n",
    "Xtest = mat['Xtest'].flatten()\n",
    "ytest = mat['ytest'].flatten()\n",
    "Xval = mat['Xval'].flatten()\n",
    "yval = mat['yval'].flatten()"
   ]
  },
  {
   "cell_type": "code",
   "execution_count": 137,
   "metadata": {},
   "outputs": [],
   "source": [
    "def X_arr(X_val,poly):\n",
    "    X_a = X_val**0\n",
    "    for i in range(1,poly+1):\n",
    "        X_a = np.c_[X_a,X_val**i]\n",
    "    return X_a.T #shape polynomial+bias x banyak data"
   ]
  },
  {
   "cell_type": "markdown",
   "metadata": {},
   "source": [
    "# Cost function equation"
   ]
  },
  {
   "cell_type": "code",
   "execution_count": 234,
   "metadata": {},
   "outputs": [
    {
     "name": "stdout",
     "output_type": "stream",
     "text": [
      "The value of cost function with theta of [1, 1] is 303.9932, expected value of 303.993\n"
     ]
    }
   ],
   "source": [
    "def J(theta_val,X_val,y_val,lambd=0):\n",
    "    m = X_val.shape[0]\n",
    "    poly = theta_val.flatten().shape[0] - 1\n",
    "    X_a = X_arr(X_val,poly)\n",
    "    z = (theta_val.reshape(1,-1) @ X_a).flatten()\n",
    "    J1 = np.sum((z-y_val)**2)/(2*m)\n",
    "    if lambd !=0:\n",
    "        J2 = np.sum((theta_val.flatten()[1:])**2)*(lambd*0.5/m)\n",
    "    return J1+J2\n",
    "\n",
    "test = J(np.array([1,1]),X,y,1)\n",
    "print(f'The value of cost function with theta of {[1,1]} is {test:.4f}, expected value of 303.993')"
   ]
  },
  {
   "cell_type": "markdown",
   "metadata": {},
   "source": [
    "# Gradient cost function equation"
   ]
  },
  {
   "cell_type": "code",
   "execution_count": 228,
   "metadata": {},
   "outputs": [
    {
     "name": "stdout",
     "output_type": "stream",
     "text": [
      "The value of gradient is [-15.3030, 598.2507] expected value of [-15.30, 598.250]\n"
     ]
    }
   ],
   "source": [
    "def gradJ(theta_val,X_val,y_val,poly,lambd=0):\n",
    "    m = X_val.shape[0]\n",
    "    poly = theta_val.flatten().shape[0] - 1\n",
    "    X_a = X_arr(X_val,poly)\n",
    "    z = (theta_val.reshape(1,-1) @ X_a).flatten()\n",
    "    dJ = np.sum((z-y_val)*X_a,axis=1)/m\n",
    "    if lambd !=0:\n",
    "        dJ[1:] += theta_val.flatten()[1:]*lambd/m\n",
    "    return dJ\n",
    "test = gradJ(np.array([1,1]),X,y,1,lambd=1)\n",
    "print(f'The value of gradient is [{test[0]:.4f}, {test[1]:.4f}] expected value of [-15.30, 598.250]')"
   ]
  },
  {
   "cell_type": "code",
   "execution_count": 225,
   "metadata": {},
   "outputs": [
    {
     "data": {
      "text/plain": [
       "[<matplotlib.lines.Line2D at 0x25ae5d56ca0>]"
      ]
     },
     "execution_count": 225,
     "metadata": {},
     "output_type": "execute_result"
    },
    {
     "data": {
      "image/png": "[encoded data removed]",
      "text/plain": [
       "<Figure size 432x288 with 1 Axes>"
      ]
     },
     "metadata": {
      "needs_background": "light"
     },
     "output_type": "display_data"
    }
   ],
   "source": [
    "theta_init = np.random.rand(2)\n",
    "rate = 2e-3\n",
    "cost_list = []\n",
    "for i in range(1,10000):\n",
    "    descent_cost = gradJ(theta_init,X,y,1,0)\n",
    "    theta_init -= rate * descent_cost\n",
    "    cost_list.append(J(theta_init,X,y,1,0))\n",
    "plt.plot(cost_list)"
   ]
  },
  {
   "cell_type": "code",
   "execution_count": 227,
   "metadata": {},
   "outputs": [
    {
     "data": {
      "image/png": "[encoded data removed]",
      "text/plain": [
       "<Figure size 432x288 with 1 Axes>"
      ]
     },
     "metadata": {
      "needs_background": "light"
     },
     "output_type": "display_data"
    }
   ],
   "source": [
    "def plotscatter(theta_val):\n",
    "    x_list = np.linspace(-60,50,100)\n",
    "    X_a = X_arr(x_list,theta_val.flatten().shape[0]-1)\n",
    "    z = (theta_val.reshape(1,-1) @ X_a).flatten()\n",
    "    plt.plot(x_list,z)\n",
    "    plt.scatter(X,y,marker='+',c='r')\n",
    "    plt.xlabel('x value')\n",
    "    plt.ylabel('y value')\n",
    "    plt.grid()\n",
    "    plt.xlim([-60,50])\n",
    "plotscatter(theta_init)"
   ]
  },
  {
   "cell_type": "code",
   "execution_count": 219,
   "metadata": {},
   "outputs": [],
   "source": []
  }
 ],
 "metadata": {
  "interpreter": {
   "hash": "ed8d44d7cc996a12710889294de7e71688d7b0f8ff09561bdf2cba427af65612"
  },
  "kernelspec": {
   "display_name": "Python 3.8.10 64-bit",
   "language": "python",
   "name": "python3"
  },
  "language_info": {
   "codemirror_mode": {
    "name": "ipython",
    "version": 3
   },
   "file_extension": ".py",
   "mimetype": "text/x-python",
   "name": "python",
   "nbconvert_exporter": "python",
   "pygments_lexer": "ipython3",
   "version": "3.8.10"
  },
  "orig_nbformat": 4
 },
 "nbformat": 4,
 "nbformat_minor": 2
}
