{
  "cells": [
    {
      "cell_type": "code",
      "execution_count": 62,
      "metadata": {
        "colab": {
          "base_uri": "https://localhost:8080/"
        },
        "id": "IIHxYoalspiN",
        "outputId": "6176e8a3-d3be-496f-b10f-6ae36a0d5b84"
      },
      "outputs": [
        {
          "name": "stdout",
          "output_type": "stream",
          "text": [
            "cpu\n"
          ]
        }
      ],
      "source": [
        "import scipy.io, os, torch\n",
        "import numpy as np\n",
        "\n",
        "from torch import nn\n",
        "from torch.utils.data import DataLoader, TensorDataset, random_split\n",
        "\n",
        "if os.getcwd()=='/content':\n",
        "    from google.colab import drive\n",
        "    drive.mount('/content/gdrive')\n",
        "    file_loc = ('gdrive/MyDrive/colab/ex4data1.mat')\n",
        "else:\n",
        "    file_loc = 'ex4data1.mat'\n",
        "\n",
        "device = torch.device(\"cuda\" if torch.cuda.is_available() else \"cpu\")\n",
        "\n",
        "mat = scipy.io.loadmat(file_loc)\n",
        "X = mat['X']\n",
        "y = mat['y']\n",
        "y = np.where(y==10,0,y)\n",
        "print(device)"
      ]
    },
    {
      "cell_type": "code",
      "execution_count": 68,
      "metadata": {
        "colab": {
          "base_uri": "https://localhost:8080/",
          "height": 356
        },
        "id": "U6xzPiaDspiP",
        "outputId": "f3632c84-173f-4d35-a92b-246700f06d52"
      },
      "outputs": [],
      "source": [
        "X_a = X.reshape(-1,20,20, order='F')\n",
        "X_b = torch.from_numpy(X_a.astype(np.float32)).to(device)\n",
        "y_b = (torch.from_numpy(y.astype(int))).to(device)\n",
        "dataset = TensorDataset(X_b, y_b)\n",
        "\n",
        "test_ratio = 0.2  # 20% data split into test dataset\n",
        "n_sample = X_a.shape[0]\n",
        "test_size = int(n_sample * test_ratio)\n",
        "train_size = n_sample - test_size\n",
        "train_ds, test_ds = random_split(dataset,[train_size, test_size])\n",
        "train_dataloader = DataLoader(train_ds, batch_size=train_size, shuffle=True)\n",
        "test_dataloader = DataLoader(test_ds, batch_size=test_size)\n",
        "for X_C in train_dataloader:\n",
        "    X_train = X_C[0].view(-1,1,20,20).to(device)\n",
        "    y_train = X_C[1].type(torch.LongTensor).flatten().to(device)\n",
        "for X_D in test_dataloader:\n",
        "    X_test = X_D[0].view(-1,1,20,20).to(device)\n",
        "    y_test = X_D[1].type(torch.LongTensor).flatten().to(device)"
      ]
    },
    {
      "cell_type": "code",
      "execution_count": 64,
      "metadata": {
        "id": "BuSNvKoyspiS"
      },
      "outputs": [],
      "source": [
        "class CNN_model(nn.Module):\n",
        "    def __init__(self,input_channel,classes):\n",
        "        super(CNN_model,self).__init__()\n",
        "        self.conv1 = nn.Conv2d(in_channels=input_channel, out_channels=20,kernel_size=(5, 5))\n",
        "        self.relu1 = nn.ReLU()\n",
        "        self.maxpool1 = nn.MaxPool2d(kernel_size=(2, 2), stride=(2, 2))\n",
        "\t\t# initialize second set of CONV => RELU => POOL layers\n",
        "        self.conv2 = nn.Conv2d(in_channels=20, out_channels=50, kernel_size=(5, 5))\n",
        "        self.relu2 = nn.ReLU()\n",
        "        self.maxpool2 = nn.MaxPool2d(kernel_size=(2, 2), stride=(2, 2))\n",
        "\t\t# initialize first (and only) set of FC => RELU layers\n",
        "        self.fc1 = nn.Linear(in_features=200, out_features=50)\n",
        "        self.relu3 = nn.ReLU()\n",
        "        # initialize our softmax classifier\n",
        "        self.fc2 = nn.Linear(in_features=50, out_features=classes)\n",
        "        self.logSoftmax = nn.LogSoftmax(dim=1)\n",
        "\n",
        "    def forward(self,x_val):\n",
        "        z = self.conv1(x_val)\n",
        "        z = self.relu1(z)\n",
        "        z = self.maxpool1(z)\n",
        "        z = self.conv2(z)\n",
        "        z = self.relu2(z)\n",
        "        z = self.maxpool2(z)\n",
        "        z = torch.flatten(z,1)\n",
        "        z = self.fc1(z)\n",
        "        z = self.relu3(z)\n",
        "        z = self.fc2(z)\n",
        "        z = self.logSoftmax(z)\n",
        "        return z"
      ]
    },
    {
      "cell_type": "code",
      "execution_count": 65,
      "metadata": {
        "id": "46qR6o0tspiT"
      },
      "outputs": [],
      "source": [
        "model = CNN_model(1,10).to(device)\n",
        "loss = nn.NLLLoss()\n",
        "epoch = int(1e5)"
      ]
    },
    {
      "cell_type": "code",
      "execution_count": 72,
      "metadata": {
        "colab": {
          "base_uri": "https://localhost:8080/",
          "height": 536
        },
        "id": "0ZWfxzkpspiU",
        "outputId": "3a766e27-1dad-4ae7-fe2c-0a2289cee667"
      },
      "outputs": [
        {
          "name": "stdout",
          "output_type": "stream",
          "text": [
            "Epoch number 0 : Loss = 0.17347, accuracy train = 95.275 %, test = 92.700 %\n",
            "Epoch number 1 : Loss = 0.16607, accuracy train = 95.550 %, test = 91.800 %\n",
            "Epoch number 2 : Loss = 0.17605, accuracy train = 95.050 %, test = 92.900 %\n",
            "Epoch number 3 : Loss = 0.16100, accuracy train = 95.650 %, test = 93.300 %\n",
            "Epoch number 4 : Loss = 0.17105, accuracy train = 95.025 %, test = 93.000 %\n",
            "Epoch number 5 : Loss = 0.15676, accuracy train = 95.800 %, test = 93.900 %\n",
            "Epoch number 6 : Loss = 0.15338, accuracy train = 95.750 %, test = 92.700 %\n",
            "Epoch number 7 : Loss = 0.15519, accuracy train = 95.875 %, test = 92.700 %\n"
          ]
        },
        {
          "ename": "KeyboardInterrupt",
          "evalue": "",
          "output_type": "error",
          "traceback": [
            "\u001b[1;31m---------------------------------------------------------------------------\u001b[0m",
            "\u001b[1;31mKeyboardInterrupt\u001b[0m                         Traceback (most recent call last)",
            "\u001b[1;32mc:\\Users\\chand\\Desktop\\JOB HUNT\\learn\\MLE_test\\Neural Network\\main_CNN.ipynb Cell 5'\u001b[0m in \u001b[0;36m<cell line: 2>\u001b[1;34m()\u001b[0m\n\u001b[0;32m      <a href='vscode-notebook-cell:/c%3A/Users/chand/Desktop/JOB%20HUNT/learn/MLE_test/Neural%20Network/main_CNN.ipynb#ch0000005?line=0'>1</a>\u001b[0m optimizer \u001b[39m=\u001b[39m torch\u001b[39m.\u001b[39moptim\u001b[39m.\u001b[39mAdam(model\u001b[39m.\u001b[39mparameters(),lr\u001b[39m=\u001b[39m\u001b[39m1e-3\u001b[39m)\n\u001b[0;32m      <a href='vscode-notebook-cell:/c%3A/Users/chand/Desktop/JOB%20HUNT/learn/MLE_test/Neural%20Network/main_CNN.ipynb#ch0000005?line=1'>2</a>\u001b[0m \u001b[39mfor\u001b[39;00m i \u001b[39min\u001b[39;00m \u001b[39mrange\u001b[39m(epoch):\n\u001b[1;32m----> <a href='vscode-notebook-cell:/c%3A/Users/chand/Desktop/JOB%20HUNT/learn/MLE_test/Neural%20Network/main_CNN.ipynb#ch0000005?line=2'>3</a>\u001b[0m     out \u001b[39m=\u001b[39m model(X_train)\n\u001b[0;32m      <a href='vscode-notebook-cell:/c%3A/Users/chand/Desktop/JOB%20HUNT/learn/MLE_test/Neural%20Network/main_CNN.ipynb#ch0000005?line=3'>4</a>\u001b[0m     J \u001b[39m=\u001b[39m loss(out,y_train)\n\u001b[0;32m      <a href='vscode-notebook-cell:/c%3A/Users/chand/Desktop/JOB%20HUNT/learn/MLE_test/Neural%20Network/main_CNN.ipynb#ch0000005?line=4'>5</a>\u001b[0m     J\u001b[39m.\u001b[39mbackward()\n",
            "File \u001b[1;32mc:\\Users\\chand\\anaconda3\\envs\\ML_env\\lib\\site-packages\\torch\\nn\\modules\\module.py:1110\u001b[0m, in \u001b[0;36mModule._call_impl\u001b[1;34m(self, *input, **kwargs)\u001b[0m\n\u001b[0;32m   <a href='file:///c%3A/Users/chand/anaconda3/envs/ML_env/lib/site-packages/torch/nn/modules/module.py?line=1105'>1106</a>\u001b[0m \u001b[39m# If we don't have any hooks, we want to skip the rest of the logic in\u001b[39;00m\n\u001b[0;32m   <a href='file:///c%3A/Users/chand/anaconda3/envs/ML_env/lib/site-packages/torch/nn/modules/module.py?line=1106'>1107</a>\u001b[0m \u001b[39m# this function, and just call forward.\u001b[39;00m\n\u001b[0;32m   <a href='file:///c%3A/Users/chand/anaconda3/envs/ML_env/lib/site-packages/torch/nn/modules/module.py?line=1107'>1108</a>\u001b[0m \u001b[39mif\u001b[39;00m \u001b[39mnot\u001b[39;00m (\u001b[39mself\u001b[39m\u001b[39m.\u001b[39m_backward_hooks \u001b[39mor\u001b[39;00m \u001b[39mself\u001b[39m\u001b[39m.\u001b[39m_forward_hooks \u001b[39mor\u001b[39;00m \u001b[39mself\u001b[39m\u001b[39m.\u001b[39m_forward_pre_hooks \u001b[39mor\u001b[39;00m _global_backward_hooks\n\u001b[0;32m   <a href='file:///c%3A/Users/chand/anaconda3/envs/ML_env/lib/site-packages/torch/nn/modules/module.py?line=1108'>1109</a>\u001b[0m         \u001b[39mor\u001b[39;00m _global_forward_hooks \u001b[39mor\u001b[39;00m _global_forward_pre_hooks):\n\u001b[1;32m-> <a href='file:///c%3A/Users/chand/anaconda3/envs/ML_env/lib/site-packages/torch/nn/modules/module.py?line=1109'>1110</a>\u001b[0m     \u001b[39mreturn\u001b[39;00m forward_call(\u001b[39m*\u001b[39m\u001b[39minput\u001b[39m, \u001b[39m*\u001b[39m\u001b[39m*\u001b[39mkwargs)\n\u001b[0;32m   <a href='file:///c%3A/Users/chand/anaconda3/envs/ML_env/lib/site-packages/torch/nn/modules/module.py?line=1110'>1111</a>\u001b[0m \u001b[39m# Do not call functions when jit is used\u001b[39;00m\n\u001b[0;32m   <a href='file:///c%3A/Users/chand/anaconda3/envs/ML_env/lib/site-packages/torch/nn/modules/module.py?line=1111'>1112</a>\u001b[0m full_backward_hooks, non_full_backward_hooks \u001b[39m=\u001b[39m [], []\n",
            "\u001b[1;32mc:\\Users\\chand\\Desktop\\JOB HUNT\\learn\\MLE_test\\Neural Network\\main_CNN.ipynb Cell 3'\u001b[0m in \u001b[0;36mCNN_model.forward\u001b[1;34m(self, x_val)\u001b[0m\n\u001b[0;32m     <a href='vscode-notebook-cell:/c%3A/Users/chand/Desktop/JOB%20HUNT/learn/MLE_test/Neural%20Network/main_CNN.ipynb#ch0000003?line=17'>18</a>\u001b[0m \u001b[39mdef\u001b[39;00m \u001b[39mforward\u001b[39m(\u001b[39mself\u001b[39m,x_val):\n\u001b[1;32m---> <a href='vscode-notebook-cell:/c%3A/Users/chand/Desktop/JOB%20HUNT/learn/MLE_test/Neural%20Network/main_CNN.ipynb#ch0000003?line=18'>19</a>\u001b[0m     z \u001b[39m=\u001b[39m \u001b[39mself\u001b[39;49m\u001b[39m.\u001b[39;49mconv1(x_val)\n\u001b[0;32m     <a href='vscode-notebook-cell:/c%3A/Users/chand/Desktop/JOB%20HUNT/learn/MLE_test/Neural%20Network/main_CNN.ipynb#ch0000003?line=19'>20</a>\u001b[0m     z \u001b[39m=\u001b[39m \u001b[39mself\u001b[39m\u001b[39m.\u001b[39mrelu1(z)\n\u001b[0;32m     <a href='vscode-notebook-cell:/c%3A/Users/chand/Desktop/JOB%20HUNT/learn/MLE_test/Neural%20Network/main_CNN.ipynb#ch0000003?line=20'>21</a>\u001b[0m     z \u001b[39m=\u001b[39m \u001b[39mself\u001b[39m\u001b[39m.\u001b[39mmaxpool1(z)\n",
            "File \u001b[1;32mc:\\Users\\chand\\anaconda3\\envs\\ML_env\\lib\\site-packages\\torch\\nn\\modules\\module.py:1110\u001b[0m, in \u001b[0;36mModule._call_impl\u001b[1;34m(self, *input, **kwargs)\u001b[0m\n\u001b[0;32m   <a href='file:///c%3A/Users/chand/anaconda3/envs/ML_env/lib/site-packages/torch/nn/modules/module.py?line=1105'>1106</a>\u001b[0m \u001b[39m# If we don't have any hooks, we want to skip the rest of the logic in\u001b[39;00m\n\u001b[0;32m   <a href='file:///c%3A/Users/chand/anaconda3/envs/ML_env/lib/site-packages/torch/nn/modules/module.py?line=1106'>1107</a>\u001b[0m \u001b[39m# this function, and just call forward.\u001b[39;00m\n\u001b[0;32m   <a href='file:///c%3A/Users/chand/anaconda3/envs/ML_env/lib/site-packages/torch/nn/modules/module.py?line=1107'>1108</a>\u001b[0m \u001b[39mif\u001b[39;00m \u001b[39mnot\u001b[39;00m (\u001b[39mself\u001b[39m\u001b[39m.\u001b[39m_backward_hooks \u001b[39mor\u001b[39;00m \u001b[39mself\u001b[39m\u001b[39m.\u001b[39m_forward_hooks \u001b[39mor\u001b[39;00m \u001b[39mself\u001b[39m\u001b[39m.\u001b[39m_forward_pre_hooks \u001b[39mor\u001b[39;00m _global_backward_hooks\n\u001b[0;32m   <a href='file:///c%3A/Users/chand/anaconda3/envs/ML_env/lib/site-packages/torch/nn/modules/module.py?line=1108'>1109</a>\u001b[0m         \u001b[39mor\u001b[39;00m _global_forward_hooks \u001b[39mor\u001b[39;00m _global_forward_pre_hooks):\n\u001b[1;32m-> <a href='file:///c%3A/Users/chand/anaconda3/envs/ML_env/lib/site-packages/torch/nn/modules/module.py?line=1109'>1110</a>\u001b[0m     \u001b[39mreturn\u001b[39;00m forward_call(\u001b[39m*\u001b[39m\u001b[39minput\u001b[39m, \u001b[39m*\u001b[39m\u001b[39m*\u001b[39mkwargs)\n\u001b[0;32m   <a href='file:///c%3A/Users/chand/anaconda3/envs/ML_env/lib/site-packages/torch/nn/modules/module.py?line=1110'>1111</a>\u001b[0m \u001b[39m# Do not call functions when jit is used\u001b[39;00m\n\u001b[0;32m   <a href='file:///c%3A/Users/chand/anaconda3/envs/ML_env/lib/site-packages/torch/nn/modules/module.py?line=1111'>1112</a>\u001b[0m full_backward_hooks, non_full_backward_hooks \u001b[39m=\u001b[39m [], []\n",
            "File \u001b[1;32mc:\\Users\\chand\\anaconda3\\envs\\ML_env\\lib\\site-packages\\torch\\nn\\modules\\conv.py:447\u001b[0m, in \u001b[0;36mConv2d.forward\u001b[1;34m(self, input)\u001b[0m\n\u001b[0;32m    <a href='file:///c%3A/Users/chand/anaconda3/envs/ML_env/lib/site-packages/torch/nn/modules/conv.py?line=445'>446</a>\u001b[0m \u001b[39mdef\u001b[39;00m \u001b[39mforward\u001b[39m(\u001b[39mself\u001b[39m, \u001b[39minput\u001b[39m: Tensor) \u001b[39m-\u001b[39m\u001b[39m>\u001b[39m Tensor:\n\u001b[1;32m--> <a href='file:///c%3A/Users/chand/anaconda3/envs/ML_env/lib/site-packages/torch/nn/modules/conv.py?line=446'>447</a>\u001b[0m     \u001b[39mreturn\u001b[39;00m \u001b[39mself\u001b[39;49m\u001b[39m.\u001b[39;49m_conv_forward(\u001b[39minput\u001b[39;49m, \u001b[39mself\u001b[39;49m\u001b[39m.\u001b[39;49mweight, \u001b[39mself\u001b[39;49m\u001b[39m.\u001b[39;49mbias)\n",
            "File \u001b[1;32mc:\\Users\\chand\\anaconda3\\envs\\ML_env\\lib\\site-packages\\torch\\nn\\modules\\conv.py:443\u001b[0m, in \u001b[0;36mConv2d._conv_forward\u001b[1;34m(self, input, weight, bias)\u001b[0m\n\u001b[0;32m    <a href='file:///c%3A/Users/chand/anaconda3/envs/ML_env/lib/site-packages/torch/nn/modules/conv.py?line=438'>439</a>\u001b[0m \u001b[39mif\u001b[39;00m \u001b[39mself\u001b[39m\u001b[39m.\u001b[39mpadding_mode \u001b[39m!=\u001b[39m \u001b[39m'\u001b[39m\u001b[39mzeros\u001b[39m\u001b[39m'\u001b[39m:\n\u001b[0;32m    <a href='file:///c%3A/Users/chand/anaconda3/envs/ML_env/lib/site-packages/torch/nn/modules/conv.py?line=439'>440</a>\u001b[0m     \u001b[39mreturn\u001b[39;00m F\u001b[39m.\u001b[39mconv2d(F\u001b[39m.\u001b[39mpad(\u001b[39minput\u001b[39m, \u001b[39mself\u001b[39m\u001b[39m.\u001b[39m_reversed_padding_repeated_twice, mode\u001b[39m=\u001b[39m\u001b[39mself\u001b[39m\u001b[39m.\u001b[39mpadding_mode),\n\u001b[0;32m    <a href='file:///c%3A/Users/chand/anaconda3/envs/ML_env/lib/site-packages/torch/nn/modules/conv.py?line=440'>441</a>\u001b[0m                     weight, bias, \u001b[39mself\u001b[39m\u001b[39m.\u001b[39mstride,\n\u001b[0;32m    <a href='file:///c%3A/Users/chand/anaconda3/envs/ML_env/lib/site-packages/torch/nn/modules/conv.py?line=441'>442</a>\u001b[0m                     _pair(\u001b[39m0\u001b[39m), \u001b[39mself\u001b[39m\u001b[39m.\u001b[39mdilation, \u001b[39mself\u001b[39m\u001b[39m.\u001b[39mgroups)\n\u001b[1;32m--> <a href='file:///c%3A/Users/chand/anaconda3/envs/ML_env/lib/site-packages/torch/nn/modules/conv.py?line=442'>443</a>\u001b[0m \u001b[39mreturn\u001b[39;00m F\u001b[39m.\u001b[39;49mconv2d(\u001b[39minput\u001b[39;49m, weight, bias, \u001b[39mself\u001b[39;49m\u001b[39m.\u001b[39;49mstride,\n\u001b[0;32m    <a href='file:///c%3A/Users/chand/anaconda3/envs/ML_env/lib/site-packages/torch/nn/modules/conv.py?line=443'>444</a>\u001b[0m                 \u001b[39mself\u001b[39;49m\u001b[39m.\u001b[39;49mpadding, \u001b[39mself\u001b[39;49m\u001b[39m.\u001b[39;49mdilation, \u001b[39mself\u001b[39;49m\u001b[39m.\u001b[39;49mgroups)\n",
            "\u001b[1;31mKeyboardInterrupt\u001b[0m: "
          ]
        }
      ],
      "source": [
        "optimizer = torch.optim.Adam(model.parameters(),lr=1e-3)\n",
        "for i in range(epoch):\n",
        "    out = model(X_train)\n",
        "    J = loss(out,y_train)\n",
        "    J.backward()\n",
        "    optimizer.step()\n",
        "    optimizer.zero_grad()\n",
        "    if i%1==0:\n",
        "        with torch.no_grad():\n",
        "            test_out = model(X_test)\n",
        "            acc_test = ((torch.argmax(test_out,dim=1).flatten()==y_test).sum().item()) * (100/1000)\n",
        "            acc = ((torch.argmax(out,dim=1).flatten()==y_train).sum().item()) * (100/4000)\n",
        "        print(f'Epoch number {i} : Loss = {J:.5f}, accuracy train = {acc:.3f} %, test = {acc_test:.3f} %')"
      ]
    }
  ],
  "metadata": {
    "accelerator": "GPU",
    "colab": {
      "name": "main_CNN.ipynb",
      "provenance": [],
      "toc_visible": true
    },
    "interpreter": {
      "hash": "294ce20df86c934b8e6934fc8826ec74c86f3a7103def11d1ee6e795248841c1"
    },
    "kernelspec": {
      "display_name": "Python 3.10.4 ('ML_env')",
      "language": "python",
      "name": "python3"
    },
    "language_info": {
      "codemirror_mode": {
        "name": "ipython",
        "version": 3
      },
      "file_extension": ".py",
      "mimetype": "text/x-python",
      "name": "python",
      "nbconvert_exporter": "python",
      "pygments_lexer": "ipython3",
      "version": "3.10.4"
    },
    "orig_nbformat": 4
  },
  "nbformat": 4,
  "nbformat_minor": 0
}
