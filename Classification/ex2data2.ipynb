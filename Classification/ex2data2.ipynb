{
 "cells": [
  {
   "cell_type": "code",
   "execution_count": null,
   "metadata": {},
   "outputs": [],
   "source": [
    "import pandas as pd\n",
    "import numpy as np\n",
    "import matplotlib.pyplot as plt"
   ]
  },
  {
   "cell_type": "code",
   "execution_count": 375,
   "metadata": {},
   "outputs": [
    {
     "name": "stderr",
     "output_type": "stream",
     "text": [
      "C:\\Users\\chand\\AppData\\Local\\Temp/ipykernel_14424/3906923861.py:4: UserWarning: You passed a edgecolor/edgecolors ('black') for an unfilled marker ('+').  Matplotlib is ignoring the edgecolor in favor of the facecolor.  This behavior may change in the future.\n",
      "  plt.scatter(x[:,0][y[:,0]==1],x[:,1][y[:,0]==1],marker='+',c='blue',edgecolors='black')\n"
     ]
    },
    {
     "data": {
      "text/plain": [
       "<matplotlib.legend.Legend at 0x148eb760400>"
      ]
     },
     "execution_count": 375,
     "metadata": {},
     "output_type": "execute_result"
    },
    {
     "data": {
      "image/png": "[encoded data removed]",
      "text/plain": [
       "<Figure size 432x288 with 1 Axes>"
      ]
     },
     "metadata": {
      "needs_background": "light"
     },
     "output_type": "display_data"
    }
   ],
   "source": [
    "data = pd.read_csv('ex2data2.txt').to_numpy()\n",
    "x = data[:,:-1]\n",
    "y = data[:,-1].reshape((-1,1))\n",
    "plt.scatter(x[:,0][y[:,0]==1],x[:,1][y[:,0]==1],marker='+',c='blue',edgecolors='black')\n",
    "plt.scatter(x[:,0][y[:,0]==0],x[:,1][y[:,0]==0],marker='o',c='yellow',edgecolors='black')\n",
    "plt.xlabel('Microchip Test 1')\n",
    "plt.ylabel('Microchip Test 2')\n",
    "plt.legend(['y=1','y=0'],loc=1)"
   ]
  },
  {
   "cell_type": "code",
   "execution_count": 420,
   "metadata": {},
   "outputs": [],
   "source": [
    "def sigmoid(z):\n",
    "    return (1/(1+np.exp(-z)))\n",
    "    \n",
    "def grad_cost(y_val, theta_val, x_val):\n",
    "    count = y_val.shape[0]\n",
    "    theta_size = np.size(theta)\n",
    "    grad_cost_out = np.zeros(theta_size)\n",
    "    h = sigmoid(theta_val.T @ x_val.T).T\n",
    "    pos_cost = - y_val * np.log(h)\n",
    "    neg_cost = (y_val-1) * np.log(1-h)\n",
    "    err = h - y_val\n",
    "    for i in range(theta_size):\n",
    "        grad_cost_out[i] = np.sum(err * x_val[i,:])\n",
    "    grad_cost_out = (grad_cost_out/count).reshape((-1,1))\n",
    "    cost = pos_cost + neg_cost\n",
    "    return h, cost, grad_cost_out/count\n",
    "\n",
    "def predict(theta_val,val_1,val_2):\n",
    "    res = theta_val.T @ x_arr(val_1,val_2).T\n",
    "    return sigmoid(res).reshape((-1,1))\n",
    "\n",
    "def x_arr(x1_val,x2_val):\n",
    "    if type(x1_val) == int or type(x1_val) == np.float64 or type(x1_val) == float:\n",
    "        x_a = 1\n",
    "    else:\n",
    "        if len(x1_val) != len(x2_val):\n",
    "            return None\n",
    "        x_a = [1]*len(x1_val)\n",
    "    degree = 6\n",
    "    for i in range(1,degree+1):\n",
    "        for j in range(i+1):\n",
    "            x_a = np.c_[x_a, (x1_val**(i-j))*(x2_val**j)]\n",
    "    return x_a"
   ]
  },
  {
   "cell_type": "code",
   "execution_count": 422,
   "metadata": {},
   "outputs": [
    {
     "name": "stdout",
     "output_type": "stream",
     "text": [
      "[[0.34194481 0.         1.        ]\n",
      " [0.36754816 0.         1.        ]\n",
      " [0.32151159 0.         1.        ]\n",
      " [0.43570484 0.         1.        ]\n",
      " [0.4747393  0.         1.        ]\n",
      " [0.40382115 0.         1.        ]\n",
      " [0.45772429 0.         1.        ]\n",
      " [0.45494113 0.         1.        ]\n",
      " [0.54413444 0.         1.        ]\n",
      " [0.62811343 0.         1.        ]\n",
      " [0.66013474 0.         1.        ]\n",
      " [0.54357219 0.         1.        ]\n",
      " [0.7321915  0.         1.        ]\n",
      " [0.47091266 0.         1.        ]\n",
      " [0.34709582 0.         1.        ]\n",
      " [0.26109773 0.         1.        ]\n",
      " [0.59666696 0.         1.        ]\n",
      " [0.36710096 0.         1.        ]\n",
      " [0.47911089 0.         1.        ]\n",
      " [0.65901379 0.         1.        ]\n",
      " [0.6343715  0.         1.        ]\n",
      " [0.71305547 0.         1.        ]\n",
      " [0.65607973 0.         1.        ]\n",
      " [0.5051721  0.         1.        ]\n",
      " [0.6681951  0.         1.        ]\n",
      " [0.62688603 0.         1.        ]\n",
      " [0.93007576 0.         1.        ]\n",
      " [0.25502721 0.         1.        ]\n",
      " [0.54129309 0.         1.        ]\n",
      " [1.44079589 0.         1.        ]\n",
      " [0.55125199 0.         1.        ]\n",
      " [0.31706852 0.         1.        ]\n",
      " [0.27162096 0.         1.        ]\n",
      " [0.30421362 0.         1.        ]\n",
      " [0.33720298 0.         1.        ]\n",
      " [0.42390896 0.         1.        ]\n",
      " [0.33063978 0.         1.        ]\n",
      " [0.29463617 0.         1.        ]\n",
      " [0.42682447 0.         1.        ]\n",
      " [0.31863406 0.         1.        ]\n",
      " [0.36089614 0.         1.        ]\n",
      " [0.50563869 0.         1.        ]\n",
      " [0.29746853 0.         1.        ]\n",
      " [0.440429   0.         1.        ]\n",
      " [0.38990985 0.         1.        ]\n",
      " [0.87253787 0.         1.        ]\n",
      " [0.26785777 0.         1.        ]\n",
      " [0.59345761 0.         1.        ]\n",
      " [0.49666731 0.         1.        ]\n",
      " [0.27485909 0.         1.        ]\n",
      " [0.21359093 0.         1.        ]\n",
      " [0.25260397 0.         1.        ]\n",
      " [0.23977588 0.         1.        ]\n",
      " [0.2575428  0.         1.        ]\n",
      " [0.37487296 0.         1.        ]\n",
      " [0.3137796  0.         1.        ]\n",
      " [0.4107751  0.         1.        ]\n",
      " [0.26100489 0.         0.        ]\n",
      " [0.76248986 0.         0.        ]\n",
      " [1.1731522  0.         0.        ]\n",
      " [0.44284283 0.         0.        ]\n",
      " [0.32788396 0.         0.        ]\n",
      " [0.63185717 0.         0.        ]\n",
      " [0.36275036 0.         0.        ]\n",
      " [0.11101129 0.         0.        ]\n",
      " [0.37747688 0.         0.        ]\n",
      " [0.10687494 0.         0.        ]\n",
      " [0.14875616 0.         0.        ]\n",
      " [0.31788109 0.         0.        ]\n",
      " [0.21666031 0.         0.        ]\n",
      " [0.26905965 0.         0.        ]\n",
      " [0.23363819 0.         0.        ]\n",
      " [0.26774908 0.         0.        ]\n",
      " [0.31927122 0.         0.        ]\n",
      " [0.62195644 0.         0.        ]\n",
      " [0.94432142 0.         0.        ]\n",
      " [0.74884681 0.         0.        ]\n",
      " [0.39255856 0.         0.        ]\n",
      " [0.39633111 0.         0.        ]\n",
      " [0.75118359 0.         0.        ]\n",
      " [0.8286509  0.         0.        ]\n",
      " [0.57675046 0.         0.        ]\n",
      " [0.79395603 0.         0.        ]\n",
      " [0.21218946 0.         0.        ]\n",
      " [0.45667911 0.         0.        ]\n",
      " [0.4067805  0.         0.        ]\n",
      " [0.41013682 0.         0.        ]\n",
      " [0.95377343 0.         0.        ]\n",
      " [0.35770277 0.         0.        ]\n",
      " [0.30352328 0.         0.        ]\n",
      " [0.70415076 0.         0.        ]\n",
      " [0.86858056 0.         0.        ]\n",
      " [0.37084998 0.         0.        ]\n",
      " [0.19437653 0.         0.        ]\n",
      " [0.02722958 0.         0.        ]\n",
      " [0.01622357 0.         0.        ]\n",
      " [0.40866526 0.         0.        ]\n",
      " [0.06401175 0.         0.        ]\n",
      " [0.10380079 0.         0.        ]\n",
      " [0.38455841 0.         0.        ]\n",
      " [0.01613334 0.         0.        ]\n",
      " [0.6660905  0.         0.        ]\n",
      " [0.43403866 0.         0.        ]\n",
      " [0.93913465 0.         0.        ]\n",
      " [0.58753577 0.         0.        ]\n",
      " [0.80918884 0.         0.        ]\n",
      " [1.17830601 0.         0.        ]\n",
      " [0.57896306 0.         0.        ]\n",
      " [0.36709421 0.         0.        ]\n",
      " [0.30945013 0.         0.        ]\n",
      " [0.32907734 0.         0.        ]\n",
      " [0.23729694 0.         0.        ]\n",
      " [0.47109543 0.         0.        ]\n",
      " [0.83106534 0.         0.        ]\n",
      " [0.12387722 0.         0.        ]\n",
      " [0.16190427 0.         0.        ]\n",
      " [1.0026739  0.         0.        ]]\n"
     ]
    }
   ],
   "source": [
    "h, costa, grad_costa = grad_cost(y,theta0,x_a)\n",
    "predict_result = predict(theta0,x_a[:,0],x_a[:,1])\n",
    "print(np.c_[costa, predict_result>0.5,y])"
   ]
  },
  {
   "cell_type": "code",
   "execution_count": 423,
   "metadata": {},
   "outputs": [],
   "source": [
    "theta = np.array([[0.5]*28]).T\n",
    "x_a = x_arr(x[:,0],x[:,1])"
   ]
  },
  {
   "cell_type": "code",
   "execution_count": 424,
   "metadata": {},
   "outputs": [
    {
     "ename": "AttributeError",
     "evalue": "'tuple' object has no attribute 'T'",
     "output_type": "error",
     "traceback": [
      "\u001b[1;31m---------------------------------------------------------------------------\u001b[0m",
      "\u001b[1;31mAttributeError\u001b[0m                            Traceback (most recent call last)",
      "\u001b[1;32m~\\AppData\\Local\\Temp/ipykernel_14424/4228413536.py\u001b[0m in \u001b[0;36m<module>\u001b[1;34m\u001b[0m\n\u001b[0;32m      2\u001b[0m \u001b[0mloop\u001b[0m \u001b[1;33m=\u001b[0m \u001b[1;36m10000\u001b[0m\u001b[1;33m\u001b[0m\u001b[1;33m\u001b[0m\u001b[0m\n\u001b[0;32m      3\u001b[0m \u001b[1;32mfor\u001b[0m \u001b[0m_\u001b[0m \u001b[1;32min\u001b[0m \u001b[0mrange\u001b[0m\u001b[1;33m(\u001b[0m\u001b[0mloop\u001b[0m\u001b[1;33m)\u001b[0m\u001b[1;33m:\u001b[0m\u001b[1;33m\u001b[0m\u001b[1;33m\u001b[0m\u001b[0m\n\u001b[1;32m----> 4\u001b[1;33m     \u001b[0mtheta\u001b[0m \u001b[1;33m=\u001b[0m \u001b[0mtheta\u001b[0m \u001b[1;33m-\u001b[0m \u001b[1;33m(\u001b[0m\u001b[0mgradient\u001b[0m \u001b[1;33m*\u001b[0m \u001b[0mgrad_cost\u001b[0m\u001b[1;33m(\u001b[0m\u001b[0my\u001b[0m\u001b[1;33m,\u001b[0m\u001b[0mtheta\u001b[0m\u001b[1;33m,\u001b[0m\u001b[0mx_a\u001b[0m\u001b[1;33m)\u001b[0m\u001b[1;33m.\u001b[0m\u001b[0mT\u001b[0m\u001b[1;33m)\u001b[0m\u001b[1;33m\u001b[0m\u001b[1;33m\u001b[0m\u001b[0m\n\u001b[0m",
      "\u001b[1;31mAttributeError\u001b[0m: 'tuple' object has no attribute 'T'"
     ]
    }
   ],
   "source": [
    "gradient = 1e-3\n",
    "loop = 10000\n",
    "for _ in range(loop):\n",
    "    theta = theta - (gradient * grad_cost(y,theta,x_a)[2].T)"
   ]
  },
  {
   "cell_type": "code",
   "execution_count": 280,
   "metadata": {},
   "outputs": [
    {
     "name": "stderr",
     "output_type": "stream",
     "text": [
      "C:\\Users\\chand\\AppData\\Local\\Temp/ipykernel_14424/2507074380.py:15: UserWarning: No contour levels were found within the data range.\n",
      "  ax.contour(X, Y, val_map,levels=[0,.9])\n",
      "C:\\Users\\chand\\AppData\\Local\\Temp/ipykernel_14424/2507074380.py:16: UserWarning: You passed a edgecolor/edgecolors ('black') for an unfilled marker ('+').  Matplotlib is ignoring the edgecolor in favor of the facecolor.  This behavior may change in the future.\n",
      "  plt.scatter(x[:,0][y[:,0]==1],x[:,1][y[:,0]==1],marker='+',c='blue',edgecolors='black')\n"
     ]
    },
    {
     "data": {
      "text/plain": [
       "Text(0, 0.5, 'feature_y')"
      ]
     },
     "execution_count": 280,
     "metadata": {},
     "output_type": "execute_result"
    },
    {
     "data": {
      "image/png": "[encoded data removed]",
      "text/plain": [
       "<Figure size 432x288 with 1 Axes>"
      ]
     },
     "metadata": {
      "needs_background": "light"
     },
     "output_type": "display_data"
    }
   ],
   "source": [
    "data_max = np.max(x,axis=0)\n",
    "data_min = np.min(x,axis=0)\n",
    "sizemat = 50\n",
    "feature_x = np.linspace(data_min[0], data_max[0], sizemat)\n",
    "feature_y = np.linspace(data_min[1], data_max[1], sizemat)\n",
    "[X, Y] = np.meshgrid(feature_x, feature_y)\n",
    "fig, ax = plt.subplots(1, 1)\n",
    "\n",
    "val_map = X*0\n",
    "for i in range(sizemat):\n",
    "    for j in range(sizemat):\n",
    "        val_map[i,j] = predict(theta,X[i][j],Y[j][j])\n",
    "  \n",
    "# plots contour lines\n",
    "ax.contour(X, Y, val_map,levels=[0,.9])\n",
    "plt.scatter(x[:,0][y[:,0]==1],x[:,1][y[:,0]==1],marker='+',c='blue',edgecolors='black')\n",
    "plt.scatter(x[:,0][y[:,0]==0],x[:,1][y[:,0]==0],marker='o',c='yellow',edgecolors='black')\n",
    "ax.legend(['y=1','y=0'],loc=1)\n",
    "ax.set_title('Contour Plot')\n",
    "ax.set_xlabel('feature_x')\n",
    "ax.set_ylabel('feature_y')"
   ]
  },
  {
   "cell_type": "markdown",
   "metadata": {},
   "source": [
    "1 0\n",
    "0 1\n",
    "2 0\n",
    "1 1\n",
    "0 2\n",
    "3 0\n",
    "2 1\n",
    "1 2\n",
    "0 3\n",
    "4 0\n",
    "3 1\n",
    "2 2\n",
    "1 3\n",
    "0 4\n",
    "5 0\n",
    "4 1\n",
    "3 2\n",
    "2 3\n",
    "1 4\n",
    "0 5\n",
    "6 0\n",
    "5 1\n",
    "4 2\n",
    "3 3\n",
    "2 4\n",
    "1 5\n",
    "0 6"
   ]
  },
  {
   "cell_type": "code",
   "execution_count": 253,
   "metadata": {},
   "outputs": [
    {
     "data": {
      "text/plain": [
       "<matplotlib.image.AxesImage at 0x148e9be2610>"
      ]
     },
     "execution_count": 253,
     "metadata": {},
     "output_type": "execute_result"
    },
    {
     "data": {
      "image/png": "[encoded data removed]",
      "text/plain": [
       "<Figure size 432x288 with 1 Axes>"
      ]
     },
     "metadata": {
      "needs_background": "light"
     },
     "output_type": "display_data"
    }
   ],
   "source": [
    "plt.imshow(val_map*255)"
   ]
  },
  {
   "cell_type": "code",
   "execution_count": 221,
   "metadata": {},
   "outputs": [
    {
     "data": {
      "text/plain": [
       "(117, 1)"
      ]
     },
     "execution_count": 221,
     "metadata": {},
     "output_type": "execute_result"
    }
   ],
   "source": [
    "y.shape"
   ]
  },
  {
   "cell_type": "code",
   "execution_count": 371,
   "metadata": {},
   "outputs": [
    {
     "data": {
      "text/plain": [
       "(117, 27)"
      ]
     },
     "execution_count": 371,
     "metadata": {},
     "output_type": "execute_result"
    }
   ],
   "source": [
    "x_a[:,1:].shape"
   ]
  },
  {
   "cell_type": "code",
   "execution_count": 373,
   "metadata": {},
   "outputs": [],
   "source": [
    "import sklearn.linear_model\n",
    "clf = sklearn.linear_model.LogisticRegression()\n",
    "clf.fit(x_a[:,1:], y.reshape((-1,)))\n",
    "w0 = clf.intercept_[0].reshape(1,)\n",
    "thetax = clf.coef_.flatten()\n",
    "theta0 = (np.r_[w0,thetax]).reshape((-1,1))"
   ]
  },
  {
   "cell_type": "code",
   "execution_count": 255,
   "metadata": {},
   "outputs": [
    {
     "name": "stderr",
     "output_type": "stream",
     "text": [
      "C:\\Users\\chand\\AppData\\Local\\Temp/ipykernel_14424/4282603780.py:15: UserWarning: No contour levels were found within the data range.\n",
      "  ax.contour(X, Y, val_map,levels=[0,.9])\n",
      "C:\\Users\\chand\\AppData\\Local\\Temp/ipykernel_14424/4282603780.py:16: UserWarning: You passed a edgecolor/edgecolors ('black') for an unfilled marker ('+').  Matplotlib is ignoring the edgecolor in favor of the facecolor.  This behavior may change in the future.\n",
      "  plt.scatter(x[:,0][data[:,-1]==1],x[:,1][data[:,-1]==1],marker='+',c='blue',edgecolors='black')\n"
     ]
    },
    {
     "data": {
      "text/plain": [
       "Text(0, 0.5, 'feature_y')"
      ]
     },
     "execution_count": 255,
     "metadata": {},
     "output_type": "execute_result"
    },
    {
     "data": {
      "image/png": "[encoded data removed]",
      "text/plain": [
       "<Figure size 432x288 with 1 Axes>"
      ]
     },
     "metadata": {
      "needs_background": "light"
     },
     "output_type": "display_data"
    }
   ],
   "source": [
    "data_max = np.max(x,axis=0)\n",
    "data_min = np.min(x,axis=0)\n",
    "sizemat = 50\n",
    "feature_x = np.linspace(data_min[0], data_max[0], sizemat)\n",
    "feature_y = np.linspace(data_min[1], data_max[1], sizemat)\n",
    "[X, Y] = np.meshgrid(feature_x, feature_y)\n",
    "fig, ax = plt.subplots(1, 1)\n",
    "\n",
    "val_map = X*0\n",
    "for i in range(sizemat):\n",
    "    for j in range(sizemat):\n",
    "        val_map[i,j] = predict(theta0,X[i][j],Y[j][j])\n",
    "  \n",
    "# plots contour lines\n",
    "ax.contour(X, Y, val_map,levels=[0,.9])\n",
    "plt.scatter(x[:,0][data[:,-1]==1],x[:,1][data[:,-1]==1],marker='+',c='blue',edgecolors='black')\n",
    "plt.scatter(x[:,0][data[:,-1]==0],x[:,1][data[:,-1]==0],marker='o',c='yellow',edgecolors='black')\n",
    "ax.legend(['y=1','y=0'],loc=1)\n",
    "ax.set_title('Contour Plot')\n",
    "ax.set_xlabel('feature_x')\n",
    "ax.set_ylabel('feature_y')"
   ]
  }
 ],
 "metadata": {
  "interpreter": {
   "hash": "ed8d44d7cc996a12710889294de7e71688d7b0f8ff09561bdf2cba427af65612"
  },
  "kernelspec": {
   "display_name": "Python 3.8.10 64-bit",
   "language": "python",
   "name": "python3"
  },
  "language_info": {
   "codemirror_mode": {
    "name": "ipython",
    "version": 3
   },
   "file_extension": ".py",
   "mimetype": "text/x-python",
   "name": "python",
   "nbconvert_exporter": "python",
   "pygments_lexer": "ipython3",
   "version": "3.8.10"
  },
  "orig_nbformat": 4
 },
 "nbformat": 4,
 "nbformat_minor": 2
}
