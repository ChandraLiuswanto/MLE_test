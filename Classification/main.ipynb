{
 "cells": [
  {
   "cell_type": "code",
   "execution_count": 64,
   "metadata": {},
   "outputs": [],
   "source": [
    "import numpy as np\n",
    "import matplotlib.pyplot as plt\n",
    "import torch\n",
    "from torch import nn"
   ]
  },
  {
   "cell_type": "code",
   "execution_count": 180,
   "metadata": {},
   "outputs": [],
   "source": [
    "data1 = np.genfromtxt('ex2data1.txt',delimiter=',')\n",
    "X1 = data1[:,:-1]\n",
    "y1 = data1[:,-1].reshape(((-1,1))).astype(int)\n",
    "def plotscatter(X_data,y_data):\n",
    "        plt.plot(X_data[:,0][y_data.flatten()==1],\n",
    "                X_data[:,1][y_data.flatten()==1],\n",
    "                'x',markersize=3)\n",
    "        plt.plot(X_data[:,0][y_data.flatten()==0],\n",
    "                X_data[:,1][y_data.flatten()==0],\n",
    "                'o',markersize=3)\n",
    "        plt.legend(['Admitted','Not admitted'])\n",
    "        plt.xlabel('Exam 1 score')\n",
    "        plt.ylabel('Exam 2 score')"
   ]
  },
  {
   "cell_type": "code",
   "execution_count": 97,
   "metadata": {},
   "outputs": [
    {
     "name": "stdout",
     "output_type": "stream",
     "text": [
      "0 15.803730010986328 61.0\n",
      "1000 0.6033244729042053 60.0\n",
      "2000 0.5499758124351501 65.0\n",
      "3000 0.5014441013336182 73.0\n",
      "4000 0.45915117859840393 81.0\n",
      "5000 0.422702819108963 86.0\n",
      "6000 0.3913725018501282 90.0\n",
      "7000 0.36443519592285156 91.0\n",
      "8000 0.3412463366985321 91.0\n",
      "9000 0.3212544322013855 93.0\n"
     ]
    }
   ],
   "source": [
    "model = nn.Linear(2,1, bias=True)\n",
    "loss = nn.BCELoss()\n",
    "optimizer = torch.optim.Adam(model.parameters(),lr=1e-3)\n",
    "X1torch = torch.Tensor(X1.astype(np.float32))\n",
    "y1torch = torch.Tensor(y1.astype(np.float32))\n",
    "max_epoch = int(1e4)\n",
    "for i in range(max_epoch):\n",
    "    z = torch.sigmoid(model(X1torch))\n",
    "    J = loss(z,y1torch)\n",
    "    J.backward()\n",
    "    optimizer.step()\n",
    "    optimizer.zero_grad()\n",
    "    if i%1000 == 0:\n",
    "        acc = (100-(z.round()-y1torch).abs().sum().item())\n",
    "        print(i,J.item(),acc)"
   ]
  },
  {
   "cell_type": "code",
   "execution_count": 191,
   "metadata": {},
   "outputs": [
    {
     "data": {
      "text/plain": [
       "tensor([[[-0.4329, -1.4661,  0.3875,  ..., -1.1141, -0.6185, -0.5733],\n",
       "         [-0.5387,  0.5131,  2.2216,  ...,  0.1531,  1.2200, -0.5681],\n",
       "         [ 0.2306,  0.6390, -1.8278,  ...,  0.1399, -1.0521, -1.7153],\n",
       "         ...,\n",
       "         [-1.7405,  0.7689,  2.0369,  ..., -1.9812,  1.2984, -1.1160],\n",
       "         [-0.1840, -1.1888,  1.9047,  ...,  1.3824, -0.9416, -0.7925],\n",
       "         [-0.8197, -0.1263,  1.7679,  ...,  0.2151, -1.0993, -1.1896]],\n",
       "\n",
       "        [[-1.3919,  0.8638, -0.3918,  ..., -0.3406,  0.3559,  0.1187],\n",
       "         [ 0.1380, -0.8151, -1.1025,  ...,  1.7809,  0.1612, -0.9000],\n",
       "         [ 0.7372,  0.4922,  0.9410,  ..., -0.7555, -3.2202, -1.0451],\n",
       "         ...,\n",
       "         [-0.3727,  0.6456, -1.1990,  ..., -1.2335, -0.2900,  0.6492],\n",
       "         [-0.2371,  0.7909,  0.8284,  ...,  1.9224, -0.5348, -0.7083],\n",
       "         [ 0.3461,  0.2659,  1.2494,  ...,  1.2359, -0.3097, -0.8156]],\n",
       "\n",
       "        [[ 0.1775,  2.1254, -0.5319,  ...,  0.3336,  0.9158, -0.9883],\n",
       "         [ 2.2010,  1.5220,  2.6705,  ..., -0.7251,  0.5988, -1.5830],\n",
       "         [ 1.3508,  0.2938,  0.9096,  ..., -1.0307,  0.9724,  0.9676],\n",
       "         ...,\n",
       "         [-1.4894,  0.3567, -0.2766,  ...,  0.7273,  0.6798,  0.2452],\n",
       "         [-0.0800, -0.8684, -0.1581,  ...,  1.6216, -1.4653,  0.4647],\n",
       "         [-1.8489, -0.5242,  2.0510,  ...,  1.0539,  0.8223, -0.1421]],\n",
       "\n",
       "        ...,\n",
       "\n",
       "        [[ 0.0071, -0.3638,  1.1313,  ...,  0.2825,  0.5459,  0.5761],\n",
       "         [ 1.1860, -0.7692, -1.1281,  ...,  0.1866, -0.0054, -0.3165],\n",
       "         [ 1.1001,  0.1254,  0.5134,  ...,  0.8880, -0.4523, -1.4700],\n",
       "         ...,\n",
       "         [-0.2926, -0.3759,  1.1719,  ..., -1.0475, -1.2387,  0.9975],\n",
       "         [-0.2136, -1.3045, -1.3006,  ...,  1.0351,  0.7013,  1.6336],\n",
       "         [ 0.3705, -1.0561, -0.7061,  ..., -0.7785, -0.0601, -1.4384]],\n",
       "\n",
       "        [[ 0.2215, -0.0119, -0.7346,  ...,  0.0134,  0.6688,  2.4349],\n",
       "         [-1.3319, -1.5574, -0.4091,  ..., -0.9149,  1.3324,  0.7353],\n",
       "         [ 1.1563, -0.1835, -2.1671,  ...,  0.5438,  0.8939, -0.5671],\n",
       "         ...,\n",
       "         [-0.8089,  1.3826, -0.2809,  ...,  0.0101, -0.1800, -0.2544],\n",
       "         [ 0.4932,  0.0662, -1.0793,  ...,  0.0932, -0.2969, -0.0354],\n",
       "         [-0.7270,  0.6697, -0.3802,  ..., -0.3185,  1.1243, -0.2655]],\n",
       "\n",
       "        [[ 0.2354,  0.0956, -0.9194,  ...,  0.9639,  0.0389,  0.3302],\n",
       "         [ 0.0036, -1.6137,  0.6397,  ..., -2.5588,  0.2621, -1.1832],\n",
       "         [ 1.3552, -1.3949, -0.7873,  ...,  1.0947, -2.2510, -0.6434],\n",
       "         ...,\n",
       "         [ 0.3802, -1.4725, -1.2442,  ..., -0.7139,  0.2949, -0.1973],\n",
       "         [-0.9931,  0.1770, -0.7412,  ...,  0.6326,  0.2468,  1.3058],\n",
       "         [ 1.3491,  1.2816,  0.6379,  ...,  0.3782, -0.3321, -0.5280]]])"
      ]
     },
     "execution_count": 191,
     "metadata": {},
     "output_type": "execute_result"
    }
   ],
   "source": [
    "torch.randn(100, 56, 50)"
   ]
  },
  {
   "cell_type": "code",
   "execution_count": null,
   "metadata": {},
   "outputs": [],
   "source": []
  },
  {
   "cell_type": "code",
   "execution_count": 182,
   "metadata": {},
   "outputs": [
    {
     "data": {
      "text/plain": [
       "(30.0, 100.0)"
      ]
     },
     "execution_count": 182,
     "metadata": {},
     "output_type": "execute_result"
    },
    {
     "data": {
      "image/png": "[encoded data removed]",
      "text/plain": [
       "<Figure size 432x288 with 1 Axes>"
      ]
     },
     "metadata": {
      "needs_background": "light"
     },
     "output_type": "display_data"
    }
   ],
   "source": [
    "[b,w] = model.parameters()\n",
    "theta = np.c_[w.detach().numpy(),b.detach().numpy()].flatten()\n",
    "x1_list = np.linspace(20,100,500)\n",
    "x2_list = -(theta[1]* x1_list + theta[0])/theta[2]\n",
    "\n",
    "X, Y = np.meshgrid(x1_list, x1_list)\n",
    "Z = (theta[0] + theta[1]*X + theta[2]*Y)>=0.5\n",
    "plotscatter(X1,y1)\n",
    "cs = plt.contourf(X,Y,Z,alpha=0.2)\n",
    "plt.xlim([30,100])\n",
    "plt.ylim([30,100])"
   ]
  },
  {
   "cell_type": "code",
   "execution_count": 187,
   "metadata": {},
   "outputs": [
    {
     "data": {
      "image/png": "[encoded data removed]",
      "text/plain": [
       "<Figure size 432x288 with 1 Axes>"
      ]
     },
     "metadata": {
      "needs_background": "light"
     },
     "output_type": "display_data"
    }
   ],
   "source": [
    "data2 = np.genfromtxt('ex2data2.txt',delimiter=',')\n",
    "X2 = data2[:,:-1]\n",
    "y2 = data2[:,-1].reshape(((-1,1))).astype(int)\n",
    "plotscatter(X2,y2)"
   ]
  },
  {
   "cell_type": "code",
   "execution_count": 185,
   "metadata": {},
   "outputs": [
    {
     "data": {
      "text/plain": [
       "array([[0., 0.],\n",
       "       [0., 0.],\n",
       "       [0., 0.],\n",
       "       [0., 0.],\n",
       "       [0., 0.],\n",
       "       [0., 0.],\n",
       "       [0., 0.],\n",
       "       [0., 0.],\n",
       "       [0., 0.],\n",
       "       [0., 0.],\n",
       "       [0., 0.],\n",
       "       [0., 0.],\n",
       "       [0., 0.],\n",
       "       [0., 0.],\n",
       "       [0., 0.],\n",
       "       [0., 0.],\n",
       "       [0., 0.],\n",
       "       [0., 0.],\n",
       "       [0., 0.],\n",
       "       [0., 0.],\n",
       "       [0., 0.],\n",
       "       [0., 0.],\n",
       "       [0., 0.],\n",
       "       [0., 0.],\n",
       "       [0., 0.],\n",
       "       [0., 0.],\n",
       "       [0., 0.],\n",
       "       [0., 0.],\n",
       "       [0., 0.],\n",
       "       [0., 0.],\n",
       "       [0., 0.],\n",
       "       [0., 0.],\n",
       "       [0., 0.],\n",
       "       [0., 0.],\n",
       "       [0., 0.],\n",
       "       [0., 0.],\n",
       "       [0., 0.],\n",
       "       [0., 0.],\n",
       "       [0., 0.],\n",
       "       [0., 0.],\n",
       "       [0., 0.],\n",
       "       [0., 0.],\n",
       "       [0., 0.],\n",
       "       [0., 0.],\n",
       "       [0., 0.],\n",
       "       [0., 0.],\n",
       "       [0., 0.],\n",
       "       [0., 0.],\n",
       "       [0., 0.],\n",
       "       [0., 0.],\n",
       "       [0., 0.],\n",
       "       [0., 0.],\n",
       "       [0., 0.],\n",
       "       [0., 0.],\n",
       "       [0., 0.],\n",
       "       [0., 0.],\n",
       "       [0., 0.],\n",
       "       [0., 0.],\n",
       "       [0., 0.],\n",
       "       [0., 0.],\n",
       "       [0., 0.],\n",
       "       [0., 0.],\n",
       "       [0., 0.],\n",
       "       [0., 0.],\n",
       "       [0., 0.],\n",
       "       [0., 0.],\n",
       "       [0., 0.],\n",
       "       [0., 0.],\n",
       "       [0., 0.],\n",
       "       [0., 0.],\n",
       "       [0., 0.],\n",
       "       [0., 0.],\n",
       "       [0., 0.],\n",
       "       [0., 0.],\n",
       "       [0., 0.],\n",
       "       [0., 0.],\n",
       "       [0., 0.],\n",
       "       [0., 0.],\n",
       "       [0., 0.],\n",
       "       [0., 0.],\n",
       "       [0., 0.],\n",
       "       [0., 0.],\n",
       "       [0., 0.],\n",
       "       [0., 0.],\n",
       "       [0., 0.],\n",
       "       [0., 0.],\n",
       "       [0., 0.],\n",
       "       [0., 0.],\n",
       "       [0., 0.],\n",
       "       [0., 0.],\n",
       "       [0., 0.],\n",
       "       [0., 0.],\n",
       "       [0., 0.],\n",
       "       [0., 0.],\n",
       "       [0., 0.],\n",
       "       [0., 0.],\n",
       "       [0., 0.],\n",
       "       [0., 0.],\n",
       "       [0., 0.],\n",
       "       [0., 0.]])"
      ]
     },
     "execution_count": 185,
     "metadata": {},
     "output_type": "execute_result"
    }
   ],
   "source": [
    "\n",
    "optimizer = torch.optim.Adam(model.parameters(),lr=1e-3)\n",
    "X1torch = torch.Tensor(X1.astype(np.float32))\n",
    "y1torch = torch.Tensor(y1.astype(np.float32))\n",
    "max_epoch = int(1e4)\n",
    "for i in range(max_epoch):\n",
    "    z = torch.sigmoid(model(X1torch))\n",
    "    J = loss(z,y1torch)\n",
    "    J.backward()\n",
    "    optimizer.step()\n",
    "    optimizer.zero_grad()\n",
    "    if i%1000 == 0:\n",
    "        acc = (100-(z.round()-y1torch).abs().sum().item())\n",
    "        print(i,J.item(),acc)"
   ]
  }
 ],
 "metadata": {
  "interpreter": {
   "hash": "294ce20df86c934b8e6934fc8826ec74c86f3a7103def11d1ee6e795248841c1"
  },
  "kernelspec": {
   "display_name": "Python 3.10.4 ('ML_env')",
   "language": "python",
   "name": "python3"
  },
  "language_info": {
   "codemirror_mode": {
    "name": "ipython",
    "version": 3
   },
   "file_extension": ".py",
   "mimetype": "text/x-python",
   "name": "python",
   "nbconvert_exporter": "python",
   "pygments_lexer": "ipython3",
   "version": "3.10.4"
  },
  "orig_nbformat": 4
 },
 "nbformat": 4,
 "nbformat_minor": 2
}
